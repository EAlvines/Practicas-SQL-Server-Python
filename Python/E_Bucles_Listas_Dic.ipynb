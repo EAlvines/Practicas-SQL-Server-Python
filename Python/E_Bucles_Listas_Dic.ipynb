{
 "cells": [
  {
   "cell_type": "code",
   "execution_count": 2,
   "id": "94ed30cb",
   "metadata": {},
   "outputs": [
    {
     "name": "stdout",
     "output_type": "stream",
     "text": [
      "Hola Kami, eres menor de edad\n"
     ]
    }
   ],
   "source": [
    "# Pide el nombre y la edad del usuario y responde según su edad\n",
    "\n",
    "nombre = str(input(\"Cual es tu nombre?: \"))\n",
    "edad = int(input(\"cual es tu edad?: \"))\n",
    "\n",
    "if edad > 18: \n",
    "    print (f\"Hola {nombre}, eres mayor de edad\")\n",
    "else:\n",
    "    print(f\"Hola {nombre}, eres menor de edad\")"
   ]
  },
  {
   "cell_type": "code",
   "execution_count": null,
   "id": "888769e6",
   "metadata": {},
   "outputs": [
    {
     "name": "stdout",
     "output_type": "stream",
     "text": [
      "1\n",
      "2\n",
      "3\n",
      "4\n",
      "5\n",
      "6\n",
      "7\n",
      "8\n",
      "9\n",
      "10\n"
     ]
    }
   ],
   "source": [
    "# Imprimir los números del 1 al 10 usando for\n",
    "for i in range(1,11):\n",
    "    print(i)"
   ]
  },
  {
   "cell_type": "code",
   "execution_count": 7,
   "id": "778540bd",
   "metadata": {},
   "outputs": [
    {
     "name": "stdout",
     "output_type": "stream",
     "text": [
      "9\n",
      "10\n"
     ]
    }
   ],
   "source": [
    "i = int(input(\"ingresa un numero\"))\n",
    "while  i <= 10:\n",
    "    print(i)\n",
    "    i += 1"
   ]
  },
  {
   "cell_type": "code",
   "execution_count": null,
   "id": "0c8cb298",
   "metadata": {},
   "outputs": [
    {
     "name": "stdout",
     "output_type": "stream",
     "text": [
      "La segunda fruta es:  platano\n",
      "La lista actualizada ['manzana', 'platano', 'fresa', 'naranaja']\n"
     ]
    }
   ],
   "source": [
    "# Lista de frutas y operaciones\n",
    "frutas = [\"manzana\", \"platano\", \"fresa\"]\n",
    "print(\"La segunda fruta es: \", frutas[1]) \n",
    "frutas.append(\"naranaja\")\n",
    "print(\"La lista actualizada\", frutas)"
   ]
  },
  {
   "cell_type": "code",
   "execution_count": 23,
   "id": "1560ba52",
   "metadata": {},
   "outputs": [
    {
     "name": "stdout",
     "output_type": "stream",
     "text": [
      "cargo: Analista\n",
      "edad actualizada: 29\n"
     ]
    }
   ],
   "source": [
    "# Diccionario de empleado\n",
    "empleados = {\"nombre\": \"Luis\", \"cargo\": \"Analista\", \"edad\": 28}\n",
    "           \n",
    "print(\"cargo:\", empleados[\"cargo\"])\n",
    "empleados[\"edad\"] += 1\n",
    "print(\"edad actualizada:\", empleados[\"edad\"])"
   ]
  },
  {
   "cell_type": "code",
   "execution_count": null,
   "id": "9829bcbc",
   "metadata": {},
   "outputs": [
    {
     "name": "stdout",
     "output_type": "stream",
     "text": [
      "Emi - Analista\n",
      "Luis - Supervisor\n",
      "Ana - Data Analyst Jr\n"
     ]
    }
   ],
   "source": [
    "empleados = [\n",
    "    {\"nombre\": \"Emi\", \"cargo\": \"Analista\", \"edad\": 28},\n",
    "    {\"nombre\": \"Luis\", \"cargo\": \"Supervisor\", \"edad\": 35},\n",
    "    {\"nombre\": \"Ana\", \"cargo\": \"Data Analyst Jr\", \"edad\": 25}\n",
    "    ]\n",
    "\n",
    "for emp in empleados:\n",
    "    print(f\"{emp['nombre']} - {emp['cargo']}\") #recorre toda la lista"
   ]
  },
  {
   "cell_type": "code",
   "execution_count": 25,
   "id": "3409ee89",
   "metadata": {},
   "outputs": [
    {
     "name": "stdout",
     "output_type": "stream",
     "text": [
      "[{'nombre': 'Emi', 'cargo': 'Analista', 'edad': 28}, {'nombre': 'Luis', 'cargo': 'Supervisor', 'edad': 35}, {'nombre': 'Ana', 'cargo': 'Data Analyst Jr', 'edad': 25}, {'nombre': 'Alicia', 'cargo': 'Asistente', 'edad': 25}]\n"
     ]
    }
   ],
   "source": [
    "#añadir regitros .append\n",
    "nuevo_empleado = {\"nombre\": \"Alicia\", \"cargo\": \"Asistente\", \"edad\": 25}\n",
    "empleados.append(nuevo_empleado)\n",
    "print(empleados)"
   ]
  },
  {
   "cell_type": "code",
   "execution_count": 26,
   "id": "0226049d",
   "metadata": {},
   "outputs": [
    {
     "name": "stdout",
     "output_type": "stream",
     "text": [
      "[{'nombre': 'Emi', 'cargo': 'Analista', 'edad': 28}, {'nombre': 'Ana', 'cargo': 'Data Analyst Jr', 'edad': 25}, {'nombre': 'Alicia', 'cargo': 'Asistente', 'edad': 25}]\n"
     ]
    }
   ],
   "source": [
    "#eliminar un registro\n",
    "nombre_a_eliminar = \"Luis\"\n",
    "empleados = [emp for emp in empleados if emp['nombre'] != nombre_a_eliminar]\n",
    "print(empleados)"
   ]
  },
  {
   "cell_type": "code",
   "execution_count": 27,
   "id": "d9662a06",
   "metadata": {},
   "outputs": [
    {
     "name": "stdout",
     "output_type": "stream",
     "text": [
      "[{'nombre': 'Emi', 'cargo': 'Analista', 'edad': 28}, {'nombre': 'Ana', 'cargo': 'Data Analyst Jr', 'edad': 26}, {'nombre': 'Alicia', 'cargo': 'Asistente', 'edad': 25}]\n"
     ]
    }
   ],
   "source": [
    "#actualizar datos\n",
    "for emp in empleados:\n",
    "    if emp[\"nombre\"] ==  \"Ana\":\n",
    "        emp['edad'] = 26\n",
    "print(empleados)"
   ]
  }
 ],
 "metadata": {
  "kernelspec": {
   "display_name": "Python 3",
   "language": "python",
   "name": "python3"
  },
  "language_info": {
   "codemirror_mode": {
    "name": "ipython",
    "version": 3
   },
   "file_extension": ".py",
   "mimetype": "text/x-python",
   "name": "python",
   "nbconvert_exporter": "python",
   "pygments_lexer": "ipython3",
   "version": "3.13.2"
  }
 },
 "nbformat": 4,
 "nbformat_minor": 5
}
