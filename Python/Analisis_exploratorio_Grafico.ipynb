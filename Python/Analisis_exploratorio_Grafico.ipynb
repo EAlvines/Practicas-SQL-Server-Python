{
 "cells": [
  {
   "cell_type": "code",
   "execution_count": 1,
   "id": "32d190a8",
   "metadata": {},
   "outputs": [
    {
     "name": "stdout",
     "output_type": "stream",
     "text": [
      "  ID_Empleado                    Nombre        Área   Turno\n",
      "0        E001  María José Barrios Armas  Producción  Mañana\n",
      "1        E002    Luisa Borrás Francisco     Calidad  Mañana\n",
      "2        E003     Marcelino Querol Tomé   Logística  Mañana\n",
      "3        E004            Nélida Cáceres  Producción   Noche\n",
      "4        E005      Macario Barros Nieto  Producción   Noche\n",
      "ID_Empleado    object\n",
      "Nombre         object\n",
      "Área           object\n",
      "Turno          object\n",
      "dtype: object\n"
     ]
    }
   ],
   "source": [
    "import pandas as pd\n",
    "import matplotlib.pyplot as plt\n",
    "\n",
    "Empleados=r\"C:\\Users\\user\\OneDrive\\Desktop\\Practica\\PYTHON\\Proyectos_work\\Proyecto_operaciones\\Empleados_Operaciones.csv\"\n",
    "Tiempos=r\"C:\\Users\\user\\OneDrive\\Desktop\\Practica\\PYTHON\\Proyectos_work\\Proyecto_operaciones\\Tiempos_Produccion.csv\"\n",
    "\n",
    "df = pd.read_csv(Empleados)\n",
    "print(df.head())\n",
    "print(df.dtypes)"
   ]
  },
  {
   "cell_type": "code",
   "execution_count": 2,
   "id": "2e3a14f2",
   "metadata": {},
   "outputs": [
    {
     "name": "stdout",
     "output_type": "stream",
     "text": [
      "  ID_Empleado       Fecha Hora_Inicio  Hora_Fin  Producción_Total\n",
      "0        E001  2025-05-16    02:41:02  10:41:02               101\n",
      "1        E001  2025-06-01    11:20:04  17:20:04                64\n",
      "2        E001  2025-06-03    16:21:36  00:21:36               121\n",
      "3        E001  2025-05-30    13:25:43  19:25:43                70\n",
      "4        E001  2025-05-30    09:56:21  17:56:21               132\n",
      "ID_Empleado         object\n",
      "Fecha               object\n",
      "Hora_Inicio         object\n",
      "Hora_Fin            object\n",
      "Producción_Total     int64\n",
      "dtype: object\n"
     ]
    }
   ],
   "source": [
    "df = pd.read_csv(Tiempos)\n",
    "print(df.head())\n",
    "print(df.dtypes)"
   ]
  },
  {
   "cell_type": "code",
   "execution_count": 11,
   "id": "61254cea",
   "metadata": {},
   "outputs": [
    {
     "name": "stdout",
     "output_type": "stream",
     "text": [
      "  ID_Empleado       Fecha         Hora_Inicio            Hora_Fin  \\\n",
      "0        E001  2025-05-16 1900-01-01 02:41:02 1900-01-01 10:41:02   \n",
      "1        E001  2025-06-01 1900-01-01 11:20:04 1900-01-01 17:20:04   \n",
      "2        E001  2025-06-03 1900-01-01 16:21:36 1900-01-01 00:21:36   \n",
      "3        E001  2025-05-30 1900-01-01 13:25:43 1900-01-01 19:25:43   \n",
      "4        E001  2025-05-30 1900-01-01 09:56:21 1900-01-01 17:56:21   \n",
      "\n",
      "   Producción_Total  Jornada  \n",
      "0               101     -8.0  \n",
      "1                64     -6.0  \n",
      "2               121     16.0  \n",
      "3                70     -6.0  \n",
      "4               132     -8.0  \n",
      "ID_Empleado                 object\n",
      "Fecha                       object\n",
      "Hora_Inicio         datetime64[ns]\n",
      "Hora_Fin            datetime64[ns]\n",
      "Producción_Total             int64\n",
      "Jornada                    float64\n",
      "dtype: object\n"
     ]
    }
   ],
   "source": [
    "df['Hora_Inicio'] = pd.to_datetime(df['Hora_Inicio'])\n",
    "df['Hora_Fin'] = pd.to_datetime(df['Hora_Fin'])\n",
    "print(df.head())\n",
    "print(df.dtypes)\n"
   ]
  },
  {
   "cell_type": "code",
   "execution_count": 13,
   "id": "09e0ae15",
   "metadata": {},
   "outputs": [
    {
     "name": "stdout",
     "output_type": "stream",
     "text": [
      "  ID_Empleado       Fecha         Hora_Inicio            Hora_Fin  \\\n",
      "0        E001  2025-05-16 1900-01-01 02:41:02 1900-01-01 10:41:02   \n",
      "1        E001  2025-06-01 1900-01-01 11:20:04 1900-01-01 17:20:04   \n",
      "2        E001  2025-06-03 1900-01-01 16:21:36 1900-01-01 00:21:36   \n",
      "3        E001  2025-05-30 1900-01-01 13:25:43 1900-01-01 19:25:43   \n",
      "4        E001  2025-05-30 1900-01-01 09:56:21 1900-01-01 17:56:21   \n",
      "\n",
      "   Producción_Total  Jornada  \n",
      "0               101      8.0  \n",
      "1                64      6.0  \n",
      "2               121    -16.0  \n",
      "3                70      6.0  \n",
      "4               132      8.0  \n"
     ]
    }
   ],
   "source": [
    "#CALCULAR DURACION DE LA JORNADA\n",
    "df['Jornada']= (df['Hora_Fin'] - df['Hora_Inicio']).dt.total_seconds() / 3600\n",
    "print(df.head())"
   ]
  },
  {
   "cell_type": "code",
   "execution_count": 20,
   "id": "523b58f2",
   "metadata": {},
   "outputs": [
    {
     "name": "stdout",
     "output_type": "stream",
     "text": [
      "     ID_Empleado         Hora_Inicio            Hora_Fin  Jornada\n",
      "2           E001 1900-01-01 16:21:36 1900-01-01 00:21:36    -16.0\n",
      "5           E001 1900-01-01 16:13:49 1900-01-01 00:13:49    -16.0\n",
      "6           E001 1900-01-01 19:05:07 1900-01-01 03:05:07    -16.0\n",
      "14          E002 1900-01-01 22:08:06 1900-01-01 04:08:06    -18.0\n",
      "15          E003 1900-01-01 20:02:17 1900-01-01 05:02:17    -15.0\n",
      "...          ...                 ...                 ...      ...\n",
      "1525        E198 1900-01-01 18:17:39 1900-01-01 02:17:39    -16.0\n",
      "1526        E199 1900-01-01 21:18:10 1900-01-01 06:18:10    -15.0\n",
      "1530        E199 1900-01-01 17:17:16 1900-01-01 00:17:16    -17.0\n",
      "1533        E200 1900-01-01 19:32:42 1900-01-01 01:32:42    -18.0\n",
      "1534        E200 1900-01-01 19:24:19 1900-01-01 03:24:19    -16.0\n",
      "\n",
      "[501 rows x 4 columns]\n"
     ]
    }
   ],
   "source": [
    "#filtrar empleados que trabajaron fueron -4 horas O trabajaron más de 12 horas\n",
    "Fuera_rango = df[(df['Jornada'] < 4) | (df['Jornada'] > 12)]\n",
    "print(Fuera_rango[['ID_Empleado', 'Hora_Inicio', 'Hora_Fin', 'Jornada']])"
   ]
  },
  {
   "cell_type": "code",
   "execution_count": 21,
   "id": "fa952881",
   "metadata": {},
   "outputs": [],
   "source": [
    "Fuera_rango.to_csv('empleados_fuera_rango.csv', index=False)"
   ]
  },
  {
   "cell_type": "code",
   "execution_count": 22,
   "id": "ac4c35e1",
   "metadata": {},
   "outputs": [
    {
     "name": "stdout",
     "output_type": "stream",
     "text": [
      "Dato: 32.53% de jornadas están fueras de rango\n"
     ]
    }
   ],
   "source": [
    "#¿Qué porcentaje de jornadas están fuera de rango?\n",
    "porcentaje_fuera_rango = (len(Fuera_rango)/ len(df))*100\n",
    "print(f\"Dato: {porcentaje_fuera_rango:.2f}% de jornadas están fueras de rango\")"
   ]
  },
  {
   "cell_type": "code",
   "execution_count": 24,
   "id": "0622b40b",
   "metadata": {},
   "outputs": [
    {
     "name": "stdout",
     "output_type": "stream",
     "text": [
      "     ID_Empleado         Hora_Inicio            Hora_Fin  Jornada\n",
      "8           E002 1900-01-01 13:26:36 1900-01-01 22:26:36      9.0\n",
      "1517        E197 1900-01-01 12:20:20 1900-01-01 21:20:20      9.0\n",
      "1515        E197 1900-01-01 09:09:23 1900-01-01 18:09:23      9.0\n",
      "432         E060 1900-01-01 00:40:43 1900-01-01 09:40:43      9.0\n",
      "433         E060 1900-01-01 08:08:36 1900-01-01 17:08:36      9.0\n"
     ]
    }
   ],
   "source": [
    "top5 = df.sort_values(by='Jornada', ascending=False).head(5)\n",
    "print(top5[['ID_Empleado', 'Hora_Inicio', 'Hora_Fin', 'Jornada']])"
   ]
  },
  {
   "cell_type": "code",
   "execution_count": 29,
   "id": "396ab638",
   "metadata": {},
   "outputs": [
    {
     "data": {
      "image/png": "[encoded data removed]",
      "text/plain": [
       "<Figure size 640x480 with 1 Axes>"
      ]
     },
     "metadata": {},
     "output_type": "display_data"
    }
   ],
   "source": [
    "plt.hist(df['Jornada'], bins=20, color='skyblue', edgecolor='black')\n",
    "plt.axvline(4, color='red', linestyle='--', label='Limite minimo (4h)' )\n",
    "plt.axvline(12, color='green', linestyle='--', label='Limite superior (12h)')\n",
    "plt.title('Distrución de Jornadas laborales')\n",
    "plt.xlabel('Horas Trabajadas')\n",
    "plt.ylabel('Cantidad de empleados')\n",
    "plt.legend()\n",
    "plt.show()"
   ]
  }
 ],
 "metadata": {
  "kernelspec": {
   "display_name": "Python 3",
   "language": "python",
   "name": "python3"
  },
  "language_info": {
   "codemirror_mode": {
    "name": "ipython",
    "version": 3
   },
   "file_extension": ".py",
   "mimetype": "text/x-python",
   "name": "python",
   "nbconvert_exporter": "python",
   "pygments_lexer": "ipython3",
   "version": "3.13.2"
  }
 },
 "nbformat": 4,
 "nbformat_minor": 5
}
