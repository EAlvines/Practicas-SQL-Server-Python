{
 "cells": [
  {
   "cell_type": "code",
   "execution_count": 2,
   "id": "cbabcb63",
   "metadata": {},
   "outputs": [
    {
     "name": "stdout",
     "output_type": "stream",
     "text": [
      "[{'nombre': 'Ana', 'edad': 22}, {'nombre': 'Luis', 'edad': 30}, {'nombre': 'Sofía', 'edad': 19}, {'nombre': 'Carlos', 'edad': 28}, {'nombre': 'Mía', 'edad': 24}]\n"
     ]
    }
   ],
   "source": [
    "#limpieza de datos\n",
    "datos = [\n",
    "    {\"nombre\": \"Ana \", \"edad\": \" 22\"},\n",
    "    {\"nombre\": \" luis\", \"edad\": \"30\"},\n",
    "    {\"nombre\": \"Sofía\", \"edad\": \"19\"},\n",
    "    {\"nombre\": \"carlos \", \"edad\": \"28\"},\n",
    "    {\"nombre\": \"Mía\", \"edad\": \" 24\"}\n",
    "]\n",
    "\n",
    "datos_limpios = []\n",
    "for persona in datos: \n",
    "    nombre_limpio = persona[\"nombre\"].strip().capitalize() \n",
    "    edad_limpia = int(persona[\"edad\"].strip())\n",
    "    #strip() -> sirve para quitar espacios\n",
    "    #capitalize() -> sirve para poner en mayúsculas\n",
    "\n",
    "    #.append({...}) -> sirve para agregar o crear el nuevo dicci limpio\n",
    "    datos_limpios.append({\n",
    "        \"nombre\": nombre_limpio,\n",
    "        \"edad\": edad_limpia\n",
    "    })\n",
    "\n",
    "print(datos_limpios)"
   ]
  },
  {
   "cell_type": "code",
   "execution_count": 3,
   "id": "0fd7d821",
   "metadata": {},
   "outputs": [
    {
     "name": "stdout",
     "output_type": "stream",
     "text": [
      "[{'nombre': 'Luis', 'edad': 30}, {'nombre': 'Carlos', 'edad': 28}]\n"
     ]
    }
   ],
   "source": [
    "datos_limpios = [\n",
    "    {'nombre': 'Ana', 'edad': 22},\n",
    "    {'nombre': 'Luis', 'edad': 30},\n",
    "    {'nombre': 'Sofía', 'edad': 19},\n",
    "    {'nombre': 'Carlos', 'edad': 28},\n",
    "    {'nombre': 'Mía', 'edad': 24}\n",
    "]\n",
    "\n",
    "mayores_25 = []\n",
    "for persona in datos_limpios:\n",
    "    if persona[\"edad\"] >= 25:\n",
    "        mayores_25.append(persona)\n",
    "print(mayores_25)"
   ]
  },
  {
   "cell_type": "code",
   "execution_count": 6,
   "id": "824e73bb",
   "metadata": {},
   "outputs": [
    {
     "name": "stdout",
     "output_type": "stream",
     "text": [
      "el promedio de edades es: 24.6\n"
     ]
    }
   ],
   "source": [
    "datos_limpios = [\n",
    "    {'nombre': 'Ana', 'edad': 22},\n",
    "    {'nombre': 'Luis', 'edad': 30},\n",
    "    {'nombre': 'Sofía', 'edad': 19},\n",
    "    {'nombre': 'Carlos', 'edad': 28},\n",
    "    {'nombre': 'Mía', 'edad': 24}\n",
    "]\n",
    "edades = [persona[\"edad\"] for persona in datos_limpios]\n",
    "suma_edades = sum(edades)\n",
    "cantidad = len(datos_limpios)\n",
    "promedio = suma_edades/cantidad\n",
    "print(f\"el promedio de edades es: {promedio}\") "
   ]
  },
  {
   "cell_type": "code",
   "execution_count": 8,
   "id": "008923b7",
   "metadata": {},
   "outputs": [
    {
     "name": "stdout",
     "output_type": "stream",
     "text": [
      "1 empienzan con la letra A y es ['Ana']\n"
     ]
    }
   ],
   "source": [
    "datos_limpios = [\n",
    "    {'nombre': 'Ana', 'edad': 22},\n",
    "    {'nombre': 'Luis', 'edad': 30},\n",
    "    {'nombre': 'Sofía', 'edad': 19},\n",
    "    {'nombre': 'Carlos', 'edad': 28},\n",
    "    {'nombre': 'Mía', 'edad': 24}\n",
    "]\n",
    "nombres = [persona[\"nombre\"] for persona in datos_limpios]\n",
    "nombres_A = [nombre for nombre in nombres if nombre.lower().startswith('a')]\n",
    "#.lower -> convierte texto a minuscula (lo convertimos para que no discrimine entre may o min)\n",
    "#.startwith() -> para filtrar que empieza con \"a\"\n",
    "cantidad_A = len(nombres_A)\n",
    "print(f\"{cantidad_A} empienzan con la letra A y es {nombres_A}\")\n"
   ]
  },
  {
   "cell_type": "code",
   "execution_count": 16,
   "id": "3d23e6e5",
   "metadata": {},
   "outputs": [
    {
     "name": "stdout",
     "output_type": "stream",
     "text": [
      "conteo de edades: {22: 1, 30: 1, 19: 1, 28: 1, 24: 1}\n"
     ]
    }
   ],
   "source": [
    "\n",
    "datos_limpios = [\n",
    "    {'nombre': 'Ana', 'edad': 22},\n",
    "    {'nombre': 'Luis', 'edad': 30},\n",
    "    {'nombre': 'Sofía', 'edad': 19},\n",
    "    {'nombre': 'Carlos', 'edad': 28},\n",
    "    {'nombre': 'Mía', 'edad': 24}\n",
    "]\n",
    "conteo_edades = {}\n",
    "\n",
    "for persona in datos_limpios:\n",
    "    edad = persona[\"edad\"]\n",
    "    if edad in conteo_edades:\n",
    "        conteo_edades[edad] += 1\n",
    "    else:\n",
    "        conteo_edades[edad] = 1\n",
    "print(\"conteo de edades:\", conteo_edades)"
   ]
  },
  {
   "cell_type": "code",
   "execution_count": 20,
   "id": "38e4ee1d",
   "metadata": {},
   "outputs": [
    {
     "name": "stdout",
     "output_type": "stream",
     "text": [
      "[{'nombre': 'Luis', 'edad': 30, 'área': 'TI'}, {'nombre': 'Mía', 'edad': 24, 'área': 'TI'}]\n"
     ]
    }
   ],
   "source": [
    "empleados = [\n",
    "    {'nombre': 'Ana', 'edad': 26, 'área': 'RRHH'},\n",
    "    {'nombre': 'Luis', 'edad': 30, 'área': 'TI'},\n",
    "    {'nombre': 'Sofía', 'edad': 22, 'área': 'RRHH'},\n",
    "    {'nombre': 'Carlos', 'edad': 35, 'área': 'Finanzas'},\n",
    "    {'nombre': 'Mía', 'edad': 24, 'área': 'TI'}\n",
    "]\n",
    "\n",
    "TI = []\n",
    "for persona in empleados:\n",
    "    if persona['área'] == 'TI':\n",
    "        TI.append(persona)\n",
    "print(TI) \n",
    "\n"
   ]
  },
  {
   "cell_type": "code",
   "execution_count": null,
   "id": "fd622d17",
   "metadata": {},
   "outputs": [
    {
     "name": "stdout",
     "output_type": "stream",
     "text": [
      "Promedio de edad por área es:  {'RRHH': 24.0, 'TI': 27.0, 'Finanzas': 35.0}\n"
     ]
    }
   ],
   "source": [
    "empleados = [\n",
    "    {'nombre': 'Ana', 'edad': 26, 'área': 'RRHH'},\n",
    "    {'nombre': 'Luis', 'edad': 30, 'área': 'TI'},\n",
    "    {'nombre': 'Sofía', 'edad': 22, 'área': 'RRHH'},\n",
    "    {'nombre': 'Carlos', 'edad': 35, 'área': 'Finanzas'},\n",
    "    {'nombre': 'Mía', 'edad': 24, 'área': 'TI'}\n",
    "]\n",
    "\n",
    "suma_edad = {}\n",
    "cantidad_area = {}\n",
    "\n",
    "for persona in empleados:\n",
    "    area = persona['área'] #agrupa y filtra por área\n",
    "    edad = persona['edad']\n",
    "\n",
    "    #Aquí el IF de la lógica que clasifica los datos según el área\n",
    "    if area in suma_edad:\n",
    "        suma_edad[area] += edad #si existe el área en la lista \"suma_edad va sumar el siguiente registro de edad\"\n",
    "        cantidad_area[area] += 1 #igual el conteo\n",
    "    else:\n",
    "        suma_edad[area] = edad #si no existe el área, iniciara la suma con la edad de ese primer\n",
    "        cantidad_area[area] = 1 #igual el conteo\n",
    "promedio = {}\n",
    "for area in suma_edad:\n",
    "    promedio[area] = suma_edad[area]/cantidad_area[area]\n",
    "\n",
    "print(\"Promedio de edad por área es: \", promedio)"
   ]
  },
  {
   "cell_type": "code",
   "execution_count": 1,
   "id": "68fdda5e",
   "metadata": {},
   "outputs": [
    {
     "name": "stdout",
     "output_type": "stream",
     "text": [
      "Nombres de las personas menores de 28 años y del área de RRHH son:  ['Ana', 'Sofía']\n"
     ]
    }
   ],
   "source": [
    "empleados = [\n",
    "    {'nombre': 'Ana', 'edad': 26, 'área': 'RRHH'},\n",
    "    {'nombre': 'Luis', 'edad': 30, 'área': 'TI'},\n",
    "    {'nombre': 'Sofía', 'edad': 22, 'área': 'RRHH'},\n",
    "    {'nombre': 'Carlos', 'edad': 35, 'área': 'Finanzas'},\n",
    "    {'nombre': 'Mía', 'edad': 24, 'área': 'TI'}\n",
    "]\n",
    "\n",
    "#se coloca al inicio persona[nombre] para que de el resultado de SOLO NOMBRES. \n",
    "nombres_28 = [persona['nombre'] for persona in empleados if persona['edad'] < 28 and persona['área'] == 'RRHH']\n",
    "print(\"Nombres de las personas menores de 28 años y del área de RRHH son: \", nombres_28)\n"
   ]
  },
  {
   "cell_type": "code",
   "execution_count": null,
   "id": "ce7dcc61",
   "metadata": {},
   "outputs": [
    {
     "name": "stdout",
     "output_type": "stream",
     "text": [
      "{'RRHH': 2, 'TI': 2, 'Finanzas': 1}\n"
     ]
    }
   ],
   "source": [
    "empleados = [\n",
    "    {'nombre': 'Ana', 'edad': 26, 'área': 'RRHH'},\n",
    "    {'nombre': 'Luis', 'edad': 30, 'área': 'TI'},\n",
    "    {'nombre': 'Sofía', 'edad': 22, 'área': 'RRHH'},\n",
    "    {'nombre': 'Carlos', 'edad': 35, 'área': 'Finanzas'},\n",
    "    {'nombre': 'Mía', 'edad': 24, 'área': 'TI'}\n",
    "]\n",
    "#Contar empleados por área. Crear dicci la clave sea el área y valor sea la cantidad\n",
    "area_valor = {} # [] es para listas / {} es para diccionarios\n",
    "for persona in empleados:\n",
    "    area = persona['área'].strip()\n",
    "    if area in area_valor:\n",
    "        area_valor[area] += 1\n",
    "    else:\n",
    "        area_valor[area] = 1    \n",
    "\n",
    "print(area_valor)"
   ]
  },
  {
   "cell_type": "code",
   "execution_count": 5,
   "id": "4516bc13",
   "metadata": {},
   "outputs": [
    {
     "name": "stdout",
     "output_type": "stream",
     "text": [
      "{'nombre': 'Ana', 'edad': 26, 'área': 'RRHH', 'senority': 'Junior'}\n",
      "{'nombre': 'Luis', 'edad': 30, 'área': 'TI', 'senority': 'Senior'}\n",
      "{'nombre': 'Sofía', 'edad': 22, 'área': 'RRHH', 'senority': 'Junior'}\n",
      "{'nombre': 'Carlos', 'edad': 35, 'área': 'Finanzas', 'senority': 'Senior'}\n",
      "{'nombre': 'Mía', 'edad': 24, 'área': 'TI', 'senority': 'Junior'}\n"
     ]
    }
   ],
   "source": [
    "#agregar campo Senority, junior menos 28 - senior mayor 28\n",
    "empleados = [\n",
    "    {'nombre': 'Ana', 'edad': 26, 'área': 'RRHH'},\n",
    "    {'nombre': 'Luis', 'edad': 30, 'área': 'TI'},\n",
    "    {'nombre': 'Sofía', 'edad': 22, 'área': 'RRHH'},\n",
    "    {'nombre': 'Carlos', 'edad': 35, 'área': 'Finanzas'},\n",
    "    {'nombre': 'Mía', 'edad': 24, 'área': 'TI'}\n",
    "]\n",
    "for persona in empleados:\n",
    "    if persona['edad'] < 28:\n",
    "        persona['senority'] = 'Junior'\n",
    "    else: \n",
    "        persona['senority'] = 'Senior'\n",
    "\n",
    "for persona in empleados:\n",
    "    print(persona)"
   ]
  }
 ],
 "metadata": {
  "kernelspec": {
   "display_name": "Python 3",
   "language": "python",
   "name": "python3"
  },
  "language_info": {
   "codemirror_mode": {
    "name": "ipython",
    "version": 3
   },
   "file_extension": ".py",
   "mimetype": "text/x-python",
   "name": "python",
   "nbconvert_exporter": "python",
   "pygments_lexer": "ipython3",
   "version": "3.13.2"
  }
 },
 "nbformat": 4,
 "nbformat_minor": 5
}
